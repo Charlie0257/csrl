{
 "cells": [
  {
   "cell_type": "markdown",
   "metadata": {},
   "source": [
    "# Safe Absorbing States"
   ]
  },
  {
   "cell_type": "code",
   "execution_count": 1,
   "metadata": {},
   "outputs": [
    {
     "data": {
      "text/html": [
       "<div><svg height=\"230pt\" viewBox=\"0.00 0.00 174.50 230.00\" width=\"175pt\" xmlns=\"http://www.w3.org/2000/svg\" xmlns:xlink=\"http://www.w3.org/1999/xlink\">\n",
       "<g class=\"graph\" id=\"graph0\" transform=\"scale(1 1) rotate(0) translate(4 226)\">\n",
       "<polygon fill=\"#ffffff\" points=\"-4,4 -4,-226 170.5,-226 170.5,4 -4,4\" stroke=\"transparent\"/>\n",
       "<text fill=\"#000000\" font-family=\"Lato\" font-size=\"14.00\" text-anchor=\"start\" x=\"60.25\" y=\"-207.8\">Inf(</text>\n",
       "<text fill=\"#1f78b4\" font-family=\"Lato\" font-size=\"14.00\" text-anchor=\"start\" x=\"85.25\" y=\"-207.8\">⓿</text>\n",
       "<text fill=\"#000000\" font-family=\"Lato\" font-size=\"14.00\" text-anchor=\"start\" x=\"100.25\" y=\"-207.8\">)</text>\n",
       "<text fill=\"#000000\" font-family=\"Lato\" font-size=\"14.00\" text-anchor=\"start\" x=\"58.25\" y=\"-193.8\">[Büchi]</text>\n",
       "<!-- I -->\n",
       "<!-- 0 -->\n",
       "<g class=\"node\" id=\"node2\">\n",
       "<title>0</title>\n",
       "<ellipse cx=\"56\" cy=\"-69\" fill=\"#ffffaa\" rx=\"18\" ry=\"18\" stroke=\"#000000\"/>\n",
       "<text fill=\"#000000\" font-family=\"Lato\" font-size=\"14.00\" text-anchor=\"middle\" x=\"56\" y=\"-65.3\">0</text>\n",
       "</g>\n",
       "<!-- I&#45;&gt;0 -->\n",
       "<g class=\"edge\" id=\"edge1\">\n",
       "<title>I-&gt;0</title>\n",
       "<path d=\"M1.1233,-69C4.178,-69 17.9448,-69 30.9241,-69\" fill=\"none\" stroke=\"#000000\"/>\n",
       "<polygon fill=\"#000000\" points=\"37.9807,-69 30.9808,-72.1501 34.4807,-69 30.9807,-69.0001 30.9807,-69.0001 30.9807,-69.0001 34.4807,-69 30.9807,-65.8501 37.9807,-69 37.9807,-69\" stroke=\"#000000\"/>\n",
       "</g>\n",
       "<!-- 0&#45;&gt;0 -->\n",
       "<g class=\"edge\" id=\"edge2\">\n",
       "<title>0-&gt;0</title>\n",
       "<path d=\"M49.6208,-86.0373C48.3189,-95.8579 50.4453,-105 56,-105 60.166,-105 62.4036,-99.8576 62.7128,-93.1433\" fill=\"none\" stroke=\"#000000\"/>\n",
       "<polygon fill=\"#000000\" points=\"62.3792,-86.0373 65.8541,-92.8818 62.5434,-89.5335 62.7076,-93.0296 62.7076,-93.0296 62.7076,-93.0296 62.5434,-89.5335 59.561,-93.1774 62.3792,-86.0373 62.3792,-86.0373\" stroke=\"#000000\"/>\n",
       "<text fill=\"#000000\" font-family=\"Lato\" font-size=\"14.00\" text-anchor=\"start\" x=\"48\" y=\"-108.8\">!a</text>\n",
       "</g>\n",
       "<!-- 1 -->\n",
       "<g class=\"node\" id=\"node3\">\n",
       "<title>1</title>\n",
       "<ellipse cx=\"144\" cy=\"-120\" fill=\"#ffffaa\" rx=\"18\" ry=\"18\" stroke=\"#000000\"/>\n",
       "<text fill=\"#000000\" font-family=\"Lato\" font-size=\"14.00\" text-anchor=\"middle\" x=\"144\" y=\"-116.3\">1</text>\n",
       "</g>\n",
       "<!-- 0&#45;&gt;1 -->\n",
       "<g class=\"edge\" id=\"edge3\">\n",
       "<title>0-&gt;1</title>\n",
       "<path d=\"M71.7326,-78.1178C85.7481,-86.2404 106.3994,-98.2088 122.0408,-107.2736\" fill=\"none\" stroke=\"#000000\"/>\n",
       "<polygon fill=\"#000000\" points=\"128.4036,-110.9612 120.7676,-110.1765 125.3754,-109.2062 122.3471,-107.4511 122.3471,-107.4511 122.3471,-107.4511 125.3754,-109.2062 123.9266,-104.7258 128.4036,-110.9612 128.4036,-110.9612\" stroke=\"#000000\"/>\n",
       "<text fill=\"#000000\" font-family=\"Lato\" font-size=\"14.00\" text-anchor=\"start\" x=\"92\" y=\"-102.8\">!a</text>\n",
       "</g>\n",
       "<!-- 2 -->\n",
       "<g class=\"node\" id=\"node4\">\n",
       "<title>2</title>\n",
       "<ellipse cx=\"144\" cy=\"-18\" fill=\"#ffffaa\" rx=\"18\" ry=\"18\" stroke=\"#000000\"/>\n",
       "<text fill=\"#000000\" font-family=\"Lato\" font-size=\"14.00\" text-anchor=\"middle\" x=\"144\" y=\"-14.3\">2</text>\n",
       "</g>\n",
       "<!-- 0&#45;&gt;2 -->\n",
       "<g class=\"edge\" id=\"edge4\">\n",
       "<title>0-&gt;2</title>\n",
       "<path d=\"M71.7326,-59.8822C85.7481,-51.7596 106.3994,-39.7912 122.0408,-30.7264\" fill=\"none\" stroke=\"#000000\"/>\n",
       "<polygon fill=\"#000000\" points=\"128.4036,-27.0388 123.9266,-33.2742 125.3754,-28.7938 122.3471,-30.5489 122.3471,-30.5489 122.3471,-30.5489 125.3754,-28.7938 120.7676,-27.8235 128.4036,-27.0388 128.4036,-27.0388\" stroke=\"#000000\"/>\n",
       "<text fill=\"#000000\" font-family=\"Lato\" font-size=\"14.00\" text-anchor=\"start\" x=\"92\" y=\"-51.8\">!a</text>\n",
       "</g>\n",
       "<!-- 1&#45;&gt;1 -->\n",
       "<g class=\"edge\" id=\"edge5\">\n",
       "<title>1-&gt;1</title>\n",
       "<path d=\"M136.3321,-136.2903C134.4831,-146.3892 137.0391,-156 144,-156 149.2207,-156 151.9636,-150.5939 152.2287,-143.6304\" fill=\"none\" stroke=\"#000000\"/>\n",
       "<polygon fill=\"#000000\" points=\"151.6679,-136.2903 155.3421,-143.0299 151.9346,-139.7801 152.2013,-143.2699 152.2013,-143.2699 152.2013,-143.2699 151.9346,-139.7801 149.0604,-143.5099 151.6679,-136.2903 151.6679,-136.2903\" stroke=\"#000000\"/>\n",
       "<text fill=\"#000000\" font-family=\"Lato\" font-size=\"14.00\" text-anchor=\"start\" x=\"121.5\" y=\"-174.8\">!a &amp; b</text>\n",
       "<text fill=\"#1f78b4\" font-family=\"Lato\" font-size=\"14.00\" text-anchor=\"start\" x=\"136.5\" y=\"-159.8\">⓿</text>\n",
       "</g>\n",
       "<!-- 2&#45;&gt;2 -->\n",
       "<g class=\"edge\" id=\"edge6\">\n",
       "<title>2-&gt;2</title>\n",
       "<path d=\"M136.3321,-34.2903C134.4831,-44.3892 137.0391,-54 144,-54 149.2207,-54 151.9636,-48.5939 152.2287,-41.6304\" fill=\"none\" stroke=\"#000000\"/>\n",
       "<polygon fill=\"#000000\" points=\"151.6679,-34.2903 155.3421,-41.0299 151.9346,-37.7801 152.2013,-41.2699 152.2013,-41.2699 152.2013,-41.2699 151.9346,-37.7801 149.0604,-41.5099 151.6679,-34.2903 151.6679,-34.2903\" stroke=\"#000000\"/>\n",
       "<text fill=\"#000000\" font-family=\"Lato\" font-size=\"14.00\" text-anchor=\"start\" x=\"122.5\" y=\"-72.8\">!a &amp; c</text>\n",
       "<text fill=\"#1f78b4\" font-family=\"Lato\" font-size=\"14.00\" text-anchor=\"start\" x=\"136.5\" y=\"-57.8\">⓿</text>\n",
       "</g>\n",
       "</g>\n",
       "</svg></div>"
      ],
      "text/plain": [
       "<oa.OmegaAutomaton at 0x7f1ee41dff98>"
      ]
     },
     "metadata": {},
     "output_type": "display_data"
    },
    {
     "data": {
      "image/png": "[encoded data removed]",
      "text/plain": [
       "<Figure size 360x360 with 1 Axes>"
      ]
     },
     "metadata": {
      "needs_background": "light"
     },
     "output_type": "display_data"
    }
   ],
   "source": [
    "%matplotlib inline\n",
    "from mdp import GridMDP\n",
    "from oa import OmegaAutomaton\n",
    "import numpy as np \n",
    "from csrl import ControlSynthesis\n",
    "\n",
    "ltl = '(F G b | F G c) & G !a'\n",
    "oa = OmegaAutomaton(ltl)\n",
    "display(oa)\n",
    "\n",
    "shape = (5,4)\n",
    "structure = np.array([\n",
    "['E',  'E',  'E',  'E',  'E'],\n",
    "['E',  'E',  'E',  'T',  'E'],\n",
    "['B',  'E',  'E',  'E',  'E'],\n",
    "['T',  'E',  'T',  'E',  'E'],\n",
    "['E',  'E',  'E',  'E',  'E']\n",
    "])\n",
    "label = np.array([\n",
    "[(),       (),     ('a',),()],\n",
    "[(),       (),     ('c',),('b',)],\n",
    "[(),       (),     ('a',),()],\n",
    "[('b',),   (),     ('c',),()],\n",
    "[(),       ('a',), (),    ('a',)]\n",
    "],dtype=np.object)\n",
    "grid_mdp = GridMDP(shape=shape,structure=structure,label=label)\n",
    "grid_mdp.plot()\n",
    "\n",
    "discount=0.9999\n",
    "csrl = ControlSynthesis(grid_mdp,oa,discount)"
   ]
  },
  {
   "cell_type": "code",
   "execution_count": 2,
   "metadata": {},
   "outputs": [],
   "source": [
    "Q=csrl.q_learning(T=100,K=10000)"
   ]
  },
  {
   "cell_type": "code",
   "execution_count": 3,
   "metadata": {},
   "outputs": [
    {
     "data": {
      "application/vnd.jupyter.widget-view+json": {
       "model_id": "99fe6dd575db4e089b50541da3d0bf69",
       "version_major": 2,
       "version_minor": 0
      },
      "text/plain": [
       "interactive(children=(IntSlider(value=0, description='i', max=0), IntSlider(value=0, description='q', max=3), …"
      ]
     },
     "metadata": {},
     "output_type": "display_data"
    }
   ],
   "source": [
    "value=np.max(Q,axis=4)\n",
    "csrl.plot(value)"
   ]
  },
  {
   "cell_type": "code",
   "execution_count": 4,
   "metadata": {},
   "outputs": [
    {
     "data": {
      "application/vnd.jupyter.widget-view+json": {
       "model_id": "1625c56da72f49f484913dbbcc3dcc6f",
       "version_major": 2,
       "version_minor": 0
      },
      "text/plain": [
       "interactive(children=(IntSlider(value=0, description='i', max=0), IntSlider(value=0, description='q', max=3), …"
      ]
     },
     "metadata": {},
     "output_type": "display_data"
    }
   ],
   "source": [
    "policy=np.argmax(Q,axis=4)\n",
    "csrl.plot(value,policy)"
   ]
  },
  {
   "cell_type": "code",
   "execution_count": 5,
   "metadata": {},
   "outputs": [
    {
     "data": {
      "application/vnd.jupyter.widget-view+json": {
       "model_id": "79a333ab61764a83a48c55581563d8d6",
       "version_major": 2,
       "version_minor": 0
      },
      "text/plain": [
       "interactive(children=(IntSlider(value=0, description='t', max=999), Output()), _dom_classes=('widget-interact'…"
      ]
     },
     "metadata": {},
     "output_type": "display_data"
    }
   ],
   "source": [
    "_=episode=csrl.simulate(policy,start=(0,0),T=1000)"
   ]
  }
 ],
 "metadata": {
  "kernelspec": {
   "display_name": "Python 3",
   "language": "python",
   "name": "python3"
  },
  "language_info": {
   "codemirror_mode": {
    "name": "ipython",
    "version": 3
   },
   "file_extension": ".py",
   "mimetype": "text/x-python",
   "name": "python",
   "nbconvert_exporter": "python",
   "pygments_lexer": "ipython3",
   "version": "3.7.3"
  }
 },
 "nbformat": 4,
 "nbformat_minor": 4
}
