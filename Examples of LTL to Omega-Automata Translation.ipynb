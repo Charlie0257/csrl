{
 "cells": [
  {
   "cell_type": "markdown",
   "metadata": {},
   "source": [
    "# Examples of LTL to Omega-Automata Translation"
   ]
  },
  {
   "cell_type": "code",
   "execution_count": 1,
   "metadata": {},
   "outputs": [],
   "source": [
    "from oa import OmegaAutomaton"
   ]
  },
  {
   "cell_type": "markdown",
   "metadata": {},
   "source": [
    "## A Buchi Automaton"
   ]
  },
  {
   "cell_type": "code",
   "execution_count": 2,
   "metadata": {},
   "outputs": [
    {
     "name": "stdout",
     "output_type": "stream",
     "text": [
      "Initial state: 0\n",
      "Transition function: [\n",
      "  {(): 0, ('a',): 0},\n",
      "  {(): 1, ('a',): 1}\n",
      "]\n",
      "Acceptance: [\n",
      "  {(): [None], ('a',): [True]},\n",
      "  {(): [None], ('a',): [None]}\n",
      "]\n"
     ]
    },
    {
     "data": {
      "text/html": [
       "<div><svg height=\"161pt\" viewBox=\"0.00 0.00 82.00 161.00\" width=\"82pt\" xmlns=\"http://www.w3.org/2000/svg\" xmlns:xlink=\"http://www.w3.org/1999/xlink\">\n",
       "<g class=\"graph\" id=\"graph0\" transform=\"scale(1 1) rotate(0) translate(4 157)\">\n",
       "<polygon fill=\"#ffffff\" points=\"-4,4 -4,-157 78,-157 78,4 -4,4\" stroke=\"transparent\"/>\n",
       "<text fill=\"#000000\" font-family=\"Lato\" font-size=\"14.00\" text-anchor=\"start\" x=\"14\" y=\"-138.8\">Inf(</text>\n",
       "<text fill=\"#1f78b4\" font-family=\"Lato\" font-size=\"14.00\" text-anchor=\"start\" x=\"39\" y=\"-138.8\">⓿</text>\n",
       "<text fill=\"#000000\" font-family=\"Lato\" font-size=\"14.00\" text-anchor=\"start\" x=\"54\" y=\"-138.8\">)</text>\n",
       "<text fill=\"#000000\" font-family=\"Lato\" font-size=\"14.00\" text-anchor=\"start\" x=\"12\" y=\"-124.8\">[Büchi]</text>\n",
       "<!-- I -->\n",
       "<!-- 0 -->\n",
       "<g class=\"node\" id=\"node2\">\n",
       "<title>0</title>\n",
       "<ellipse cx=\"56\" cy=\"-18\" fill=\"#ffffaa\" rx=\"18\" ry=\"18\" stroke=\"#000000\"/>\n",
       "<text fill=\"#000000\" font-family=\"Lato\" font-size=\"14.00\" text-anchor=\"middle\" x=\"56\" y=\"-14.3\">0</text>\n",
       "</g>\n",
       "<!-- I&#45;&gt;0 -->\n",
       "<g class=\"edge\" id=\"edge1\">\n",
       "<title>I-&gt;0</title>\n",
       "<path d=\"M1.1233,-18C4.178,-18 17.9448,-18 30.9241,-18\" fill=\"none\" stroke=\"#000000\"/>\n",
       "<polygon fill=\"#000000\" points=\"37.9807,-18 30.9808,-21.1501 34.4807,-18 30.9807,-18.0001 30.9807,-18.0001 30.9807,-18.0001 34.4807,-18 30.9807,-14.8501 37.9807,-18 37.9807,-18\" stroke=\"#000000\"/>\n",
       "</g>\n",
       "<!-- 0&#45;&gt;0 -->\n",
       "<g class=\"edge\" id=\"edge2\">\n",
       "<title>0-&gt;0</title>\n",
       "<path d=\"M52.7643,-35.7817C52.2144,-45.3149 53.293,-54 56,-54 57.988,-54 59.0977,-49.3161 59.3292,-43.0521\" fill=\"none\" stroke=\"#000000\"/>\n",
       "<polygon fill=\"#000000\" points=\"59.2357,-35.7817 62.4756,-42.7406 59.2808,-39.2814 59.3258,-42.7812 59.3258,-42.7812 59.3258,-42.7812 59.2808,-39.2814 56.1761,-42.8217 59.2357,-35.7817 59.2357,-35.7817\" stroke=\"#000000\"/>\n",
       "<text fill=\"#000000\" font-family=\"Lato\" font-size=\"14.00\" text-anchor=\"start\" x=\"48\" y=\"-57.8\">!a</text>\n",
       "</g>\n",
       "<!-- 0&#45;&gt;0 -->\n",
       "<g class=\"edge\" id=\"edge3\">\n",
       "<title>0-&gt;0</title>\n",
       "<path d=\"M50.6841,-35.4203C47.6538,-52.791 49.4258,-72 56,-72 61.7011,-72 63.7908,-57.5545 62.2691,-42.3894\" fill=\"none\" stroke=\"#000000\"/>\n",
       "<polygon fill=\"#000000\" points=\"61.3159,-35.4203 65.3856,-41.9288 61.7902,-38.888 62.2646,-42.3557 62.2646,-42.3557 62.2646,-42.3557 61.7902,-38.888 59.1437,-42.7826 61.3159,-35.4203 61.3159,-35.4203\" stroke=\"#000000\"/>\n",
       "<text fill=\"#000000\" font-family=\"Lato\" font-size=\"14.00\" text-anchor=\"start\" x=\"51\" y=\"-90.8\">a</text>\n",
       "<text fill=\"#1f78b4\" font-family=\"Lato\" font-size=\"14.00\" text-anchor=\"start\" x=\"48.5\" y=\"-75.8\">⓿</text>\n",
       "</g>\n",
       "</g>\n",
       "</svg></div>"
      ],
      "text/plain": [
       "<oa.OmegaAutomaton at 0x7f3120115cf8>"
      ]
     },
     "execution_count": 2,
     "metadata": {},
     "output_type": "execute_result"
    }
   ],
   "source": [
    "ltl = 'G F a' \n",
    "ba = OmegaAutomaton(ltl,'ldba')\n",
    "print('Initial state:',ba.q0)\n",
    "print('Transition function: ['),print(*['  '+str(t) for t in ba.delta],sep=',\\n'),print(']')\n",
    "print('Acceptance: ['),print(*['  '+str(t) for t in ba.acc],sep=',\\n'),print(']')\n",
    "ba"
   ]
  },
  {
   "cell_type": "markdown",
   "metadata": {},
   "source": [
    "The transition function as can be seen is a list of dictionaries; $\\texttt{dra.delta[q][label]}$ stores the id of the next state where $\\texttt{q}$ is the id of the current state and $\\texttt{label}$ is a tuple of strings representing the label.\n",
    "\n",
    "The acceptance condition is represented in a similar way; $\\texttt{dra.acc[q][label][i]}$ is False if the state $\\texttt{q}$ belongs to the first set of the $\\texttt{i}$th Rabin pair, it is True if the state belongs to the second set, and None if it doesn't belong either of them."
   ]
  },
  {
   "cell_type": "markdown",
   "metadata": {},
   "source": [
    "## A Rabin Automaton with Index 1 "
   ]
  },
  {
   "cell_type": "code",
   "execution_count": 3,
   "metadata": {},
   "outputs": [
    {
     "name": "stdout",
     "output_type": "stream",
     "text": [
      "Initial state: 0\n",
      "Transition function: [\n",
      "  {(): 0, ('a',): 0},\n",
      "  {(): 1, ('a',): 1}\n",
      "]\n",
      "Acceptance: [\n",
      "  {(): [False], ('a',): [True]},\n",
      "  {(): [None], ('a',): [None]}\n",
      "]\n"
     ]
    },
    {
     "data": {
      "text/html": [
       "<div><svg height=\"176pt\" viewBox=\"0.00 0.00 134.00 176.00\" width=\"134pt\" xmlns=\"http://www.w3.org/2000/svg\" xmlns:xlink=\"http://www.w3.org/1999/xlink\">\n",
       "<g class=\"graph\" id=\"graph0\" transform=\"scale(1 1) rotate(0) translate(4 172)\">\n",
       "<polygon fill=\"#ffffff\" points=\"-4,4 -4,-172 130,-172 130,4 -4,4\" stroke=\"transparent\"/>\n",
       "<text fill=\"#000000\" font-family=\"Lato\" font-size=\"14.00\" text-anchor=\"start\" x=\"8\" y=\"-153.8\">Fin(</text>\n",
       "<text fill=\"#1f78b4\" font-family=\"Lato\" font-size=\"14.00\" text-anchor=\"start\" x=\"34\" y=\"-153.8\">⓿</text>\n",
       "<text fill=\"#000000\" font-family=\"Lato\" font-size=\"14.00\" text-anchor=\"start\" x=\"49\" y=\"-153.8\">) &amp; Inf(</text>\n",
       "<text fill=\"#ff4da0\" font-family=\"Lato\" font-size=\"14.00\" text-anchor=\"start\" x=\"99\" y=\"-153.8\">❶</text>\n",
       "<text fill=\"#000000\" font-family=\"Lato\" font-size=\"14.00\" text-anchor=\"start\" x=\"112\" y=\"-153.8\">)</text>\n",
       "<text fill=\"#000000\" font-family=\"Lato\" font-size=\"14.00\" text-anchor=\"start\" x=\"30.5\" y=\"-139.8\">[Rabin 1]</text>\n",
       "<!-- I -->\n",
       "<!-- 0 -->\n",
       "<g class=\"node\" id=\"node2\">\n",
       "<title>0</title>\n",
       "<ellipse cx=\"82\" cy=\"-18\" fill=\"#ffffaa\" rx=\"18\" ry=\"18\" stroke=\"#000000\"/>\n",
       "<text fill=\"#000000\" font-family=\"Lato\" font-size=\"14.00\" text-anchor=\"middle\" x=\"82\" y=\"-14.3\">0</text>\n",
       "</g>\n",
       "<!-- I&#45;&gt;0 -->\n",
       "<g class=\"edge\" id=\"edge1\">\n",
       "<title>I-&gt;0</title>\n",
       "<path d=\"M27.1233,-18C30.178,-18 43.9448,-18 56.9241,-18\" fill=\"none\" stroke=\"#000000\"/>\n",
       "<polygon fill=\"#000000\" points=\"63.9807,-18 56.9808,-21.1501 60.4807,-18 56.9807,-18.0001 56.9807,-18.0001 56.9807,-18.0001 60.4807,-18 56.9807,-14.8501 63.9807,-18 63.9807,-18\" stroke=\"#000000\"/>\n",
       "</g>\n",
       "<!-- 0&#45;&gt;0 -->\n",
       "<g class=\"edge\" id=\"edge2\">\n",
       "<title>0-&gt;0</title>\n",
       "<path d=\"M78.7643,-35.7817C78.2144,-45.3149 79.293,-54 82,-54 83.988,-54 85.0977,-49.3161 85.3292,-43.0521\" fill=\"none\" stroke=\"#000000\"/>\n",
       "<polygon fill=\"#000000\" points=\"85.2357,-35.7817 88.4756,-42.7406 85.2808,-39.2814 85.3258,-42.7812 85.3258,-42.7812 85.3258,-42.7812 85.2808,-39.2814 82.1761,-42.8217 85.2357,-35.7817 85.2357,-35.7817\" stroke=\"#000000\"/>\n",
       "<text fill=\"#000000\" font-family=\"Lato\" font-size=\"14.00\" text-anchor=\"start\" x=\"74\" y=\"-72.8\">!a</text>\n",
       "<text fill=\"#1f78b4\" font-family=\"Lato\" font-size=\"14.00\" text-anchor=\"start\" x=\"74.5\" y=\"-57.8\">⓿</text>\n",
       "</g>\n",
       "<!-- 0&#45;&gt;0 -->\n",
       "<g class=\"edge\" id=\"edge3\">\n",
       "<title>0-&gt;0</title>\n",
       "<path d=\"M76.9906,-35.5771C73.5451,-56.718 75.2148,-84 82,-84 88.043,-84 90.0285,-62.3596 87.9564,-42.6907\" fill=\"none\" stroke=\"#000000\"/>\n",
       "<polygon fill=\"#000000\" points=\"87.0094,-35.5771 91.0556,-42.1002 87.4713,-39.0465 87.9332,-42.5159 87.9332,-42.5159 87.9332,-42.5159 87.4713,-39.0465 84.8107,-42.9316 87.0094,-35.5771 87.0094,-35.5771\" stroke=\"#000000\"/>\n",
       "<text fill=\"#000000\" font-family=\"Lato\" font-size=\"14.00\" text-anchor=\"start\" x=\"77\" y=\"-102.8\">a</text>\n",
       "<text fill=\"#ff4da0\" font-family=\"Lato\" font-size=\"14.00\" text-anchor=\"start\" x=\"75.5\" y=\"-87.8\">❶</text>\n",
       "</g>\n",
       "</g>\n",
       "</svg></div>"
      ],
      "text/plain": [
       "<oa.OmegaAutomaton at 0x7f31200d3cc0>"
      ]
     },
     "execution_count": 3,
     "metadata": {},
     "output_type": "execute_result"
    }
   ],
   "source": [
    "ltl = 'F G a'\n",
    "dra = OmegaAutomaton(ltl,'dra')\n",
    "print('Initial state:',dra.q0)\n",
    "print('Transition function: ['),print(*['  '+str(t) for t in dra.delta],sep=',\\n'),print(']')\n",
    "print('Acceptance: ['),print(*['  '+str(t) for t in dra.acc],sep=',\\n'),print(']')\n",
    "dra"
   ]
  },
  {
   "cell_type": "markdown",
   "metadata": {},
   "source": [
    "## A Rabin Automaton with Index 2"
   ]
  },
  {
   "cell_type": "code",
   "execution_count": 4,
   "metadata": {},
   "outputs": [
    {
     "name": "stdout",
     "output_type": "stream",
     "text": [
      "Initial state: 0\n",
      "Transition function: [\n",
      "  {(): 0, ('a',): 0, ('b',): 0, ('a', 'b'): 0},\n",
      "  {(): 1, ('a',): 1, ('b',): 1, ('a', 'b'): 1}\n",
      "]\n",
      "Acceptance: [\n",
      "  {(): [False, False], ('a',): [True, False], ('b',): [False, True], ('a', 'b'): [True, True]},\n",
      "  {(): [None, None], ('a',): [None, None], ('b',): [None, None], ('a', 'b'): [None, None]}\n",
      "]\n"
     ]
    },
    {
     "data": {
      "text/html": [
       "<div><svg height=\"264pt\" viewBox=\"0.00 0.00 275.00 264.00\" width=\"275pt\" xmlns=\"http://www.w3.org/2000/svg\" xmlns:xlink=\"http://www.w3.org/1999/xlink\">\n",
       "<g class=\"graph\" id=\"graph0\" transform=\"scale(1 1) rotate(0) translate(4 260)\">\n",
       "<polygon fill=\"#ffffff\" points=\"-4,4 -4,-260 271,-260 271,4 -4,4\" stroke=\"transparent\"/>\n",
       "<text fill=\"#000000\" font-family=\"Lato\" font-size=\"14.00\" text-anchor=\"start\" x=\"8\" y=\"-241.8\">(Fin(</text>\n",
       "<text fill=\"#1f78b4\" font-family=\"Lato\" font-size=\"14.00\" text-anchor=\"start\" x=\"39\" y=\"-241.8\">⓿</text>\n",
       "<text fill=\"#000000\" font-family=\"Lato\" font-size=\"14.00\" text-anchor=\"start\" x=\"54\" y=\"-241.8\">) &amp; Inf(</text>\n",
       "<text fill=\"#ff4da0\" font-family=\"Lato\" font-size=\"14.00\" text-anchor=\"start\" x=\"104\" y=\"-241.8\">❶</text>\n",
       "<text fill=\"#000000\" font-family=\"Lato\" font-size=\"14.00\" text-anchor=\"start\" x=\"117\" y=\"-241.8\">)) | (Fin(</text>\n",
       "<text fill=\"#ff7f00\" font-family=\"Lato\" font-size=\"14.00\" text-anchor=\"start\" x=\"172\" y=\"-241.8\">❷</text>\n",
       "<text fill=\"#000000\" font-family=\"Lato\" font-size=\"14.00\" text-anchor=\"start\" x=\"185\" y=\"-241.8\">) &amp; Inf(</text>\n",
       "<text fill=\"#6a3d9a\" font-family=\"Lato\" font-size=\"14.00\" text-anchor=\"start\" x=\"235\" y=\"-241.8\">❸</text>\n",
       "<text fill=\"#000000\" font-family=\"Lato\" font-size=\"14.00\" text-anchor=\"start\" x=\"248\" y=\"-241.8\">))</text>\n",
       "<text fill=\"#000000\" font-family=\"Lato\" font-size=\"14.00\" text-anchor=\"start\" x=\"101\" y=\"-227.8\">[Rabin 2]</text>\n",
       "<!-- I -->\n",
       "<!-- 0 -->\n",
       "<g class=\"node\" id=\"node2\">\n",
       "<title>0</title>\n",
       "<ellipse cx=\"148.75\" cy=\"-18\" fill=\"#ffffaa\" rx=\"18\" ry=\"18\" stroke=\"#000000\"/>\n",
       "<text fill=\"#000000\" font-family=\"Lato\" font-size=\"14.00\" text-anchor=\"middle\" x=\"148.75\" y=\"-14.3\">0</text>\n",
       "</g>\n",
       "<!-- I&#45;&gt;0 -->\n",
       "<g class=\"edge\" id=\"edge1\">\n",
       "<title>I-&gt;0</title>\n",
       "<path d=\"M93.8733,-18C96.928,-18 110.6948,-18 123.6741,-18\" fill=\"none\" stroke=\"#000000\"/>\n",
       "<polygon fill=\"#000000\" points=\"130.7307,-18 123.7308,-21.1501 127.2307,-18 123.7307,-18.0001 123.7307,-18.0001 123.7307,-18.0001 127.2307,-18 123.7307,-14.8501 130.7307,-18 130.7307,-18\" stroke=\"#000000\"/>\n",
       "</g>\n",
       "<!-- 0&#45;&gt;0 -->\n",
       "<g class=\"edge\" id=\"edge2\">\n",
       "<title>0-&gt;0</title>\n",
       "<path d=\"M147.1218,-36.1527C146.8713,-45.5391 147.4141,-54 148.75,-54 149.7311,-54 150.2844,-49.437 150.4099,-43.2953\" fill=\"none\" stroke=\"#000000\"/>\n",
       "<polygon fill=\"#000000\" points=\"150.3782,-36.1527 153.5593,-43.1386 150.3938,-39.6527 150.4093,-43.1526 150.4093,-43.1526 150.4093,-43.1526 150.3938,-39.6527 147.2594,-43.1667 150.3782,-36.1527 150.3782,-36.1527\" stroke=\"#000000\"/>\n",
       "<text fill=\"#000000\" font-family=\"Lato\" font-size=\"14.00\" text-anchor=\"start\" x=\"123.25\" y=\"-71.8\">!a &amp; !b</text>\n",
       "<text fill=\"#1f78b4\" font-family=\"Lato\" font-size=\"14.00\" text-anchor=\"start\" x=\"134.75\" y=\"-57.8\">⓿</text>\n",
       "<text fill=\"#ff7f00\" font-family=\"Lato\" font-size=\"14.00\" text-anchor=\"start\" x=\"149.75\" y=\"-57.8\">❷</text>\n",
       "</g>\n",
       "<!-- 0&#45;&gt;0 -->\n",
       "<g class=\"edge\" id=\"edge3\">\n",
       "<title>0-&gt;0</title>\n",
       "<path d=\"M146.1926,-35.915C144.5401,-56.3938 145.3926,-82 148.75,-82 151.714,-82 152.7257,-62.0436 151.7852,-43.2764\" fill=\"none\" stroke=\"#000000\"/>\n",
       "<polygon fill=\"#000000\" points=\"151.3074,-35.915 154.9042,-42.6962 151.5341,-39.4076 151.7608,-42.9003 151.7608,-42.9003 151.7608,-42.9003 151.5341,-39.4076 148.6175,-43.1043 151.3074,-35.915 151.3074,-35.915\" stroke=\"#000000\"/>\n",
       "<text fill=\"#000000\" font-family=\"Lato\" font-size=\"14.00\" text-anchor=\"start\" x=\"126.25\" y=\"-99.8\">a &amp; !b</text>\n",
       "<text fill=\"#ff4da0\" font-family=\"Lato\" font-size=\"14.00\" text-anchor=\"start\" x=\"135.75\" y=\"-85.8\">❶</text>\n",
       "<text fill=\"#ff7f00\" font-family=\"Lato\" font-size=\"14.00\" text-anchor=\"start\" x=\"148.75\" y=\"-85.8\">❷</text>\n",
       "</g>\n",
       "<!-- 0&#45;&gt;0 -->\n",
       "<g class=\"edge\" id=\"edge4\">\n",
       "<title>0-&gt;0</title>\n",
       "<path d=\"M145.6159,-35.8319C142.2473,-65.54 143.292,-110 148.75,-110 153.7816,-110 155.0625,-72.2155 152.5928,-43.0366\" fill=\"none\" stroke=\"#000000\"/>\n",
       "<polygon fill=\"#000000\" points=\"151.8841,-35.8319 155.7043,-42.4898 152.2268,-39.315 152.5694,-42.7982 152.5694,-42.7982 152.5694,-42.7982 152.2268,-39.315 149.4346,-43.1066 151.8841,-35.8319 151.8841,-35.8319\" stroke=\"#000000\"/>\n",
       "<text fill=\"#000000\" font-family=\"Lato\" font-size=\"14.00\" text-anchor=\"start\" x=\"126.25\" y=\"-127.8\">!a &amp; b</text>\n",
       "<text fill=\"#1f78b4\" font-family=\"Lato\" font-size=\"14.00\" text-anchor=\"start\" x=\"134.75\" y=\"-113.8\">⓿</text>\n",
       "<text fill=\"#6a3d9a\" font-family=\"Lato\" font-size=\"14.00\" text-anchor=\"start\" x=\"149.75\" y=\"-113.8\">❸</text>\n",
       "</g>\n",
       "<!-- 0&#45;&gt;0 -->\n",
       "<g class=\"edge\" id=\"edge5\">\n",
       "<title>0-&gt;0</title>\n",
       "<path d=\"M145.1904,-35.8848C139.9697,-73.9277 141.1563,-138 148.75,-138 155.8691,-138 157.3569,-81.6865 153.2134,-43.3009\" fill=\"none\" stroke=\"#000000\"/>\n",
       "<polygon fill=\"#000000\" points=\"152.3096,-35.8848 156.2833,-42.4523 152.733,-39.3591 153.1565,-42.8334 153.1565,-42.8334 153.1565,-42.8334 152.733,-39.3591 150.0296,-43.2145 152.3096,-35.8848 152.3096,-35.8848\" stroke=\"#000000\"/>\n",
       "<text fill=\"#000000\" font-family=\"Lato\" font-size=\"14.00\" text-anchor=\"start\" x=\"129.25\" y=\"-155.8\">a &amp; b</text>\n",
       "<text fill=\"#ff4da0\" font-family=\"Lato\" font-size=\"14.00\" text-anchor=\"start\" x=\"135.75\" y=\"-141.8\">❶</text>\n",
       "<text fill=\"#6a3d9a\" font-family=\"Lato\" font-size=\"14.00\" text-anchor=\"start\" x=\"148.75\" y=\"-141.8\">❸</text>\n",
       "</g>\n",
       "</g>\n",
       "</svg></div>"
      ],
      "text/plain": [
       "<oa.OmegaAutomaton at 0x7f312002edd8>"
      ]
     },
     "execution_count": 4,
     "metadata": {},
     "output_type": "execute_result"
    }
   ],
   "source": [
    "ltl = 'F G a | F G b'\n",
    "dra = OmegaAutomaton(ltl,'dra')\n",
    "print('Initial state:',dra.q0)\n",
    "print('Transition function: ['),print(*['  '+str(t) for t in dra.delta],sep=',\\n'),print(']')\n",
    "print('Acceptance: ['),print(*['  '+str(t) for t in dra.acc],sep=',\\n'),print(']')\n",
    "dra"
   ]
  },
  {
   "cell_type": "markdown",
   "metadata": {},
   "source": [
    "## A Limit-Deterministic Buchi Automaton"
   ]
  },
  {
   "cell_type": "code",
   "execution_count": 5,
   "metadata": {},
   "outputs": [
    {
     "name": "stdout",
     "output_type": "stream",
     "text": [
      "Initial state: 0\n",
      "Transition function: [\n",
      "  {(): 0, ('a',): 0, ('b',): 0, ('a', 'b'): 0},\n",
      "  {(): 3, ('a',): 3, ('b',): 1, ('a', 'b'): 1},\n",
      "  {(): 3, ('a',): 2, ('b',): 3, ('a', 'b'): 2},\n",
      "  {(): 3, ('a',): 3, ('b',): 3, ('a', 'b'): 3}\n",
      "]\n",
      "Acceptance: [\n",
      "  {(): [None], ('a',): [None], ('b',): [None], ('a', 'b'): [None]},\n",
      "  {(): [None], ('a',): [None], ('b',): [True], ('a', 'b'): [True]},\n",
      "  {(): [None], ('a',): [True], ('b',): [None], ('a', 'b'): [True]},\n",
      "  {(): [None], ('a',): [None], ('b',): [None], ('a', 'b'): [None]}\n",
      "]\n"
     ]
    },
    {
     "data": {
      "text/html": [
       "<div><svg height=\"230pt\" viewBox=\"0.00 0.00 164.00 230.00\" width=\"164pt\" xmlns=\"http://www.w3.org/2000/svg\" xmlns:xlink=\"http://www.w3.org/1999/xlink\">\n",
       "<g class=\"graph\" id=\"graph0\" transform=\"scale(1 1) rotate(0) translate(4 226)\">\n",
       "<polygon fill=\"#ffffff\" points=\"-4,4 -4,-226 160,-226 160,4 -4,4\" stroke=\"transparent\"/>\n",
       "<text fill=\"#000000\" font-family=\"Lato\" font-size=\"14.00\" text-anchor=\"start\" x=\"55\" y=\"-207.8\">Inf(</text>\n",
       "<text fill=\"#1f78b4\" font-family=\"Lato\" font-size=\"14.00\" text-anchor=\"start\" x=\"80\" y=\"-207.8\">⓿</text>\n",
       "<text fill=\"#000000\" font-family=\"Lato\" font-size=\"14.00\" text-anchor=\"start\" x=\"95\" y=\"-207.8\">)</text>\n",
       "<text fill=\"#000000\" font-family=\"Lato\" font-size=\"14.00\" text-anchor=\"start\" x=\"53\" y=\"-193.8\">[Büchi]</text>\n",
       "<!-- I -->\n",
       "<!-- 0 -->\n",
       "<g class=\"node\" id=\"node2\">\n",
       "<title>0</title>\n",
       "<ellipse cx=\"56\" cy=\"-69\" fill=\"#ffffaa\" rx=\"18\" ry=\"18\" stroke=\"#000000\"/>\n",
       "<text fill=\"#000000\" font-family=\"Lato\" font-size=\"14.00\" text-anchor=\"middle\" x=\"56\" y=\"-65.3\">0</text>\n",
       "</g>\n",
       "<!-- I&#45;&gt;0 -->\n",
       "<g class=\"edge\" id=\"edge1\">\n",
       "<title>I-&gt;0</title>\n",
       "<path d=\"M1.1233,-69C4.178,-69 17.9448,-69 30.9241,-69\" fill=\"none\" stroke=\"#000000\"/>\n",
       "<polygon fill=\"#000000\" points=\"37.9807,-69 30.9808,-72.1501 34.4807,-69 30.9807,-69.0001 30.9807,-69.0001 30.9807,-69.0001 34.4807,-69 30.9807,-65.8501 37.9807,-69 37.9807,-69\" stroke=\"#000000\"/>\n",
       "</g>\n",
       "<!-- 0&#45;&gt;0 -->\n",
       "<g class=\"edge\" id=\"edge2\">\n",
       "<title>0-&gt;0</title>\n",
       "<path d=\"M49.6208,-86.0373C48.3189,-95.8579 50.4453,-105 56,-105 60.166,-105 62.4036,-99.8576 62.7128,-93.1433\" fill=\"none\" stroke=\"#000000\"/>\n",
       "<polygon fill=\"#000000\" points=\"62.3792,-86.0373 65.8541,-92.8818 62.5434,-89.5335 62.7076,-93.0296 62.7076,-93.0296 62.7076,-93.0296 62.5434,-89.5335 59.561,-93.1774 62.3792,-86.0373 62.3792,-86.0373\" stroke=\"#000000\"/>\n",
       "<text fill=\"#000000\" font-family=\"Lato\" font-size=\"14.00\" text-anchor=\"start\" x=\"51\" y=\"-108.8\">1</text>\n",
       "</g>\n",
       "<!-- 1 -->\n",
       "<g class=\"node\" id=\"node3\">\n",
       "<title>1</title>\n",
       "<ellipse cx=\"138\" cy=\"-120\" fill=\"#ffffaa\" rx=\"18\" ry=\"18\" stroke=\"#000000\"/>\n",
       "<text fill=\"#000000\" font-family=\"Lato\" font-size=\"14.00\" text-anchor=\"start\" x=\"133\" y=\"-116.3\">1</text>\n",
       "</g>\n",
       "<!-- 0&#45;&gt;1 -->\n",
       "<g class=\"edge\" id=\"edge3\">\n",
       "<title>0-&gt;1</title>\n",
       "<path d=\"M71.4236,-78.5927C84.1368,-86.4997 102.3127,-97.8042 116.462,-106.6044\" fill=\"none\" stroke=\"#000000\"/>\n",
       "<polygon fill=\"#000000\" points=\"122.6456,-110.4503 115.0378,-109.4282 119.6735,-108.6018 116.7015,-106.7533 116.7015,-106.7533 116.7015,-106.7533 119.6735,-108.6018 118.3651,-104.0784 122.6456,-110.4503 122.6456,-110.4503\" stroke=\"#000000\"/>\n",
       "<text fill=\"#000000\" font-family=\"Lato\" font-size=\"14.00\" text-anchor=\"start\" x=\"92\" y=\"-100.8\">1</text>\n",
       "</g>\n",
       "<!-- 2 -->\n",
       "<g class=\"node\" id=\"node4\">\n",
       "<title>2</title>\n",
       "<ellipse cx=\"138\" cy=\"-18\" fill=\"#ffffaa\" rx=\"18\" ry=\"18\" stroke=\"#000000\"/>\n",
       "<text fill=\"#000000\" font-family=\"Lato\" font-size=\"14.00\" text-anchor=\"middle\" x=\"138\" y=\"-14.3\">2</text>\n",
       "</g>\n",
       "<!-- 0&#45;&gt;2 -->\n",
       "<g class=\"edge\" id=\"edge4\">\n",
       "<title>0-&gt;2</title>\n",
       "<path d=\"M71.4236,-59.4073C84.1368,-51.5003 102.3127,-40.1958 116.462,-31.3956\" fill=\"none\" stroke=\"#000000\"/>\n",
       "<polygon fill=\"#000000\" points=\"122.6456,-27.5497 118.3651,-33.9216 119.6735,-29.3982 116.7015,-31.2467 116.7015,-31.2467 116.7015,-31.2467 119.6735,-29.3982 115.0378,-28.5718 122.6456,-27.5497 122.6456,-27.5497\" stroke=\"#000000\"/>\n",
       "<text fill=\"#000000\" font-family=\"Lato\" font-size=\"14.00\" text-anchor=\"start\" x=\"92\" y=\"-49.8\">1</text>\n",
       "</g>\n",
       "<!-- 1&#45;&gt;1 -->\n",
       "<g class=\"edge\" id=\"edge5\">\n",
       "<title>1-&gt;1</title>\n",
       "<path d=\"M130.9688,-136.6641C129.4063,-146.625 131.75,-156 138,-156 142.6875,-156 145.1777,-150.7266 145.4707,-143.8876\" fill=\"none\" stroke=\"#000000\"/>\n",
       "<polygon fill=\"#000000\" points=\"145.0313,-136.6641 148.6006,-143.4598 145.2438,-140.1576 145.4564,-143.6511 145.4564,-143.6511 145.4564,-143.6511 145.2438,-140.1576 142.3122,-143.8425 145.0313,-136.6641 145.0313,-136.6641\" stroke=\"#000000\"/>\n",
       "<text fill=\"#000000\" font-family=\"Lato\" font-size=\"14.00\" text-anchor=\"start\" x=\"133\" y=\"-174.8\">a</text>\n",
       "<text fill=\"#1f78b4\" font-family=\"Lato\" font-size=\"14.00\" text-anchor=\"start\" x=\"130.5\" y=\"-159.8\">⓿</text>\n",
       "</g>\n",
       "<!-- 2&#45;&gt;2 -->\n",
       "<g class=\"edge\" id=\"edge6\">\n",
       "<title>2-&gt;2</title>\n",
       "<path d=\"M130.9688,-34.6641C129.4063,-44.625 131.75,-54 138,-54 142.6875,-54 145.1777,-48.7266 145.4707,-41.8876\" fill=\"none\" stroke=\"#000000\"/>\n",
       "<polygon fill=\"#000000\" points=\"145.0313,-34.6641 148.6006,-41.4598 145.2438,-38.1576 145.4564,-41.6511 145.4564,-41.6511 145.4564,-41.6511 145.2438,-38.1576 142.3122,-41.8425 145.0313,-34.6641 145.0313,-34.6641\" stroke=\"#000000\"/>\n",
       "<text fill=\"#000000\" font-family=\"Lato\" font-size=\"14.00\" text-anchor=\"start\" x=\"133\" y=\"-72.8\">b</text>\n",
       "<text fill=\"#1f78b4\" font-family=\"Lato\" font-size=\"14.00\" text-anchor=\"start\" x=\"130.5\" y=\"-57.8\">⓿</text>\n",
       "</g>\n",
       "</g>\n",
       "</svg></div>"
      ],
      "text/plain": [
       "<oa.OmegaAutomaton at 0x7f312003eda0>"
      ]
     },
     "execution_count": 5,
     "metadata": {},
     "output_type": "execute_result"
    }
   ],
   "source": [
    "ltl = 'F G a | F G b'\n",
    "ldba = OmegaAutomaton(ltl,'ldba')\n",
    "print('Initial state:',ldba.q0)\n",
    "print('Transition function: ['),print(*['  '+str(t) for t in ldba.delta],sep=',\\n'),print(']')\n",
    "print('Acceptance: ['),print(*['  '+str(t) for t in ldba.acc],sep=',\\n'),print(']')\n",
    "ldba"
   ]
  }
 ],
 "metadata": {
  "kernelspec": {
   "display_name": "Python 3",
   "language": "python",
   "name": "python3"
  },
  "language_info": {
   "codemirror_mode": {
    "name": "ipython",
    "version": 3
   },
   "file_extension": ".py",
   "mimetype": "text/x-python",
   "name": "python",
   "nbconvert_exporter": "python",
   "pygments_lexer": "ipython3",
   "version": "3.7.3"
  }
 },
 "nbformat": 4,
 "nbformat_minor": 4
}
